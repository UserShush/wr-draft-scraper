{
 "cells": [
  {
   "cell_type": "code",
   "execution_count": 2,
   "id": "941b5041-2d30-4fe4-8fb7-8f81b5c7e525",
   "metadata": {},
   "outputs": [
    {
     "name": "stdout",
     "output_type": "stream",
     "text": [
      "📝 Found 84 HTML comments.\n"
     ]
    }
   ],
   "source": [
    "import requests\n",
    "from bs4 import BeautifulSoup, Comment\n",
    "\n",
    "# Player ID for DeAndre Hopkins\n",
    "player_id = \"HopkDe00\"\n",
    "\n",
    "url = f\"https://www.pro-football-reference.com/players/{player_id[0]}/{player_id}.htm\"\n",
    "headers = {\"User-Agent\": \"Mozilla/5.0\"}\n",
    "\n",
    "try:\n",
    "    response = requests.get(url, headers=headers, timeout=10)\n",
    "    if response.status_code == 429:\n",
    "        print(f\"🛑 Rate limited at {player_id}.\")\n",
    "    else:\n",
    "        soup = BeautifulSoup(response.text, 'html.parser')\n",
    "        comments = soup.find_all(string=lambda text: isinstance(text, Comment))\n",
    "        print(f\"📝 Found {len(comments)} HTML comments.\")\n",
    "\n",
    "        # Instead of printing immediately, collect into a list\n",
    "        comments_list = []\n",
    "        for idx, comment in enumerate(comments):\n",
    "            comments_list.append((idx+1, comment.strip()))\n",
    "\n",
    "except Exception as e:\n",
    "    print(f\"⚠️ Error fetching {player_id}: {e}\")\n"
   ]
  },
  {
   "cell_type": "code",
   "execution_count": 3,
   "id": "d735e77b-556d-4a9d-bc2a-52aeb179f721",
   "metadata": {},
   "outputs": [
    {
     "name": "stdout",
     "output_type": "stream",
     "text": [
      "\n",
      "\n",
      "--- Comment 1 ---\n",
      "\n",
      "include:start =\"/inc/klecko_header_pfr.html_f\"\n",
      "\n",
      "--- End Comment ---\n",
      "\n",
      "\n",
      "\n",
      "--- Comment 2 ---\n",
      "\n",
      "no:cookie fast load the css.\n",
      "\n",
      "--- End Comment ---\n",
      "\n",
      "\n",
      "\n",
      "--- Comment 3 ---\n",
      "\n",
      "CSS start\n",
      "\n",
      "--- End Comment ---\n",
      "\n",
      "\n",
      "\n",
      "--- Comment 4 ---\n",
      "\n",
      "CSS END\n",
      "\n",
      "--- End Comment ---\n",
      "\n",
      "\n",
      "\n",
      "--- Comment 5 ---\n",
      "\n",
      "JS START\n",
      "\n",
      "--- End Comment ---\n",
      "\n"
     ]
    }
   ],
   "source": [
    "# Display first 5 comments to inspect manually\n",
    "for idx, comment in comments_list[:5]:\n",
    "    print(f\"\\n\\n--- Comment {idx} ---\\n\")\n",
    "    print(comment[:1500])  # Only show 1500 characters per comment for readability\n",
    "    print(\"\\n--- End Comment ---\\n\")\n"
   ]
  },
  {
   "cell_type": "code",
   "execution_count": 4,
   "id": "d55b0ca1-995c-4bcd-8e09-94d78641fdf3",
   "metadata": {},
   "outputs": [
    {
     "name": "stdout",
     "output_type": "stream",
     "text": [
      "Found 0 comments containing 'receiving_and_rushing'.\n"
     ]
    }
   ],
   "source": [
    "# Search all comments for any that contain 'receiving_and_rushing'\n",
    "receiving_comments = []\n",
    "\n",
    "for idx, comment in comments_list:\n",
    "    if 'receiving_and_rushing' in comment:\n",
    "        receiving_comments.append((idx, comment))\n",
    "\n",
    "print(f\"Found {len(receiving_comments)} comments containing 'receiving_and_rushing'.\")\n",
    "\n",
    "for idx, comment in receiving_comments:\n",
    "    print(f\"\\n\\n--- Relevant Comment {idx} ---\\n\")\n",
    "    print(comment[:1500])  # Show the first 1500 characters\n",
    "    print(\"\\n--- End Comment ---\\n\")\n"
   ]
  },
  {
   "cell_type": "code",
   "execution_count": 5,
   "id": "8b19c203-2d6a-4b3a-a05b-870e9a61e1cb",
   "metadata": {},
   "outputs": [
    {
     "name": "stdout",
     "output_type": "stream",
     "text": [
      "✅ All comments dumped to 'hopkins_html_comments_dump.txt'\n"
     ]
    }
   ],
   "source": [
    "# Save all comments to a file for full inspection\n",
    "\n",
    "with open(\"hopkins_html_comments_dump.txt\", \"w\", encoding=\"utf-8\") as f:\n",
    "    for idx, comment in comments_list:\n",
    "        f.write(f\"\\n\\n--- Comment {idx} ---\\n\\n\")\n",
    "        f.write(comment)\n",
    "        f.write(\"\\n\\n--- End Comment ---\\n\\n\")\n",
    "\n",
    "print(\"✅ All comments dumped to 'hopkins_html_comments_dump.txt'\")\n"
   ]
  },
  {
   "cell_type": "code",
   "execution_count": null,
   "id": "5c112211-2fb6-4031-8396-185b6ec6e41f",
   "metadata": {},
   "outputs": [],
   "source": []
  }
 ],
 "metadata": {
  "kernelspec": {
   "display_name": "Python 3 (ipykernel)",
   "language": "python",
   "name": "python3"
  },
  "language_info": {
   "codemirror_mode": {
    "name": "ipython",
    "version": 3
   },
   "file_extension": ".py",
   "mimetype": "text/x-python",
   "name": "python",
   "nbconvert_exporter": "python",
   "pygments_lexer": "ipython3",
   "version": "3.13.1"
  }
 },
 "nbformat": 4,
 "nbformat_minor": 5
}
